{
 "cells": [
  {
   "cell_type": "markdown",
   "metadata": {},
   "source": [
    "# Build Databases\n",
    "\n",
    "The first thing we need to do is get the data into a form that we can draw upon to assemble training and test data for pout learning algorithm. The data is stored in a multitude of files in various formats. Some data that should go into a single DataFrame is spread over multiple files. The functions below construct the database from which we will pull the training and test data. These tables will contain the data we deem as fundamental to this analysis. That means some things will get dropped, like customer IDs, and other things will be aggregated, like individual order data being aggregated into summaries by district and time period. Other stuff, like normalization, will not be done here as the unnormalized data is something we want to hang on to."
   ]
  },
  {
   "cell_type": "code",
   "execution_count": 1,
   "metadata": {
    "collapsed": false
   },
   "outputs": [],
   "source": [
    "import numpy as np\n",
    "import pandas as pd\n",
    "import matplotlib.pyplot as plt\n",
    "import os\n",
    "import string\n",
    "plt.style.use('ggplot')\n",
    "%matplotlib inline"
   ]
  },
  {
   "cell_type": "code",
   "execution_count": 2,
   "metadata": {
    "collapsed": true
   },
   "outputs": [],
   "source": [
    "def retrieve(f):\n",
    "    '''\n",
    "    A decorator function that checks to see if the data you are pulling \n",
    "    has already been pulled. And saved.\n",
    "    '''   \n",
    "    def retrieve_f(filename, *args):\n",
    "        if filename in os.listdir('./season_2/summaries'):\n",
    "            return pd.read_csv('./season_2/summaries/%s' % filename)\n",
    "        else:\n",
    "            df = f(*args)\n",
    "            df.to_csv('./season_2/summaries/%s' % filename, index=False)\n",
    "            return df\n",
    "    return retrieve_f"
   ]
  },
  {
   "cell_type": "code",
   "execution_count": 3,
   "metadata": {
    "collapsed": true
   },
   "outputs": [],
   "source": [
    "def make_time(timestamp):\n",
    "    # this function is not portable beyond these data sets\n",
    "    date, time = string.split(timestamp.rstrip(), ' ')\n",
    "    _, _, day = string.split(date, '-')\n",
    "    hour, minute, _ = string.split(time, ':')\n",
    "    return (1440*int(day) + 60*int(hour) + int(minute) - 1430)/10"
   ]
  },
  {
   "cell_type": "code",
   "execution_count": 4,
   "metadata": {
    "collapsed": true
   },
   "outputs": [],
   "source": [
    "def make_time2(timestamp):\n",
    "    # this function is not portable beyond these data sets\n",
    "    _, _, day, interval = string.split(timestamp.rstrip(), '-')\n",
    "    return (144*int(day) + int(interval) - 144)"
   ]
  },
  {
   "cell_type": "code",
   "execution_count": 5,
   "metadata": {
    "collapsed": true
   },
   "outputs": [],
   "source": [
    "def weekdaze(UTC):\n",
    "    return int(UTC)/145%7"
   ]
  },
  {
   "cell_type": "code",
   "execution_count": 6,
   "metadata": {
    "collapsed": false
   },
   "outputs": [],
   "source": [
    "def summarize(df, grouping, col, agg):\n",
    "    groups = df.groupby(grouping)\n",
    "    return getattr(groups[col], agg)()"
   ]
  },
  {
   "cell_type": "code",
   "execution_count": 7,
   "metadata": {
    "collapsed": false
   },
   "outputs": [],
   "source": [
    "def set_district_ID(df, cluster_map, onwhat):\n",
    "    return pd.merge(df, cluster_map, on=onwhat).drop(onwhat, 1)"
   ]
  },
  {
   "cell_type": "code",
   "execution_count": 8,
   "metadata": {
    "collapsed": true
   },
   "outputs": [],
   "source": [
    "def assemble_from_csvs(folder, cols):\n",
    "    return [pd.read_csv(os.path.join(folder, fl), sep=\"\\t\", header=None, names=cols) \n",
    "            for fl in os.listdir(folder)] # concatenate here! saves code"
   ]
  },
  {
   "cell_type": "code",
   "execution_count": 9,
   "metadata": {
    "collapsed": true
   },
   "outputs": [],
   "source": [
    "def dictate_from_subdict(column_items, title=''):\n",
    "    return {'%s-%s' % (title, k) : float(v) \n",
    "            for k,v in map(lambda x: string.split(x, ':'), column_items)}"
   ]
  },
  {
   "cell_type": "code",
   "execution_count": 10,
   "metadata": {
    "collapsed": false
   },
   "outputs": [],
   "source": [
    "def dictate_from_subarray(column_items, title=''):\n",
    "    return {k:float(v.rstrip()) for k,v in zip(['weather', 'temp', 'pm25'], column_items)}"
   ]
  },
  {
   "cell_type": "code",
   "execution_count": 11,
   "metadata": {
    "collapsed": false
   },
   "outputs": [],
   "source": [
    "def dictate(folder, indices, new_ind_names, funx, title=''):\n",
    "    dicto = {}\n",
    "    for fl in os.listdir(folder):\n",
    "        with open(os.path.join(folder, fl), 'r') as f:\n",
    "            for linie in f:\n",
    "                items = string.split(linie, '\\t')\n",
    "                columni = [i for i in xrange(len(items)) if i not in indices]\n",
    "                indexed_items = tuple(items[j] for j in indices)\n",
    "                column_items = [items[k] for k in columni]\n",
    "                dicto[indexed_items] = funx(column_items, title)\n",
    "    df0 = pd.DataFrame(dicto).T\n",
    "    df0.index.rename(new_ind_names, inplace=True)\n",
    "    df0.reset_index(level=new_ind_names, inplace=True)\n",
    "    return df0"
   ]
  },
  {
   "cell_type": "code",
   "execution_count": 12,
   "metadata": {
    "collapsed": false
   },
   "outputs": [],
   "source": [
    "def NaNize(df0, fullindex, indexnames):\n",
    "    if len(fullindex) > 1:\n",
    "        traindex = pd.MultiIndex.from_product(fullindex, names=indexnames)\n",
    "    else:\n",
    "        traindex = pd.Index(fullindex[0], name=indexnames[0])\n",
    "    df1 = pd.DataFrame(index=traindex)\n",
    "    df1 = pd.concat([df1, df0.set_index(indexnames)], axis=1)\n",
    "    df1.reset_index(level=indexnames, inplace=True)\n",
    "    return df1"
   ]
  },
  {
   "cell_type": "code",
   "execution_count": 13,
   "metadata": {
    "collapsed": false
   },
   "outputs": [],
   "source": [
    "def interpolate(df, index, cols, method):\n",
    "    if len(index) > 1:\n",
    "        df.set_index(index, inplace=True)\n",
    "    else:\n",
    "        df.set_index(index[0], inplace=True)\n",
    "    outer = list(set(index).difference(['UTC']))\n",
    "    if outer:\n",
    "        for dID in set(df.index.get_level_values(outer[0])):\n",
    "            df.loc[dID][cols] = df.loc[dID][cols].apply(pd.Series.interpolate, method=method)\n",
    "    else:\n",
    "        df[cols] = df[cols].apply(pd.Series.interpolate, method=method)\n",
    "    df.reset_index(level=index, inplace=True)\n",
    "    return df"
   ]
  },
  {
   "cell_type": "code",
   "execution_count": 14,
   "metadata": {
    "collapsed": true
   },
   "outputs": [],
   "source": [
    "def zap_dependencies(df, verbose=False):\n",
    "    '''\n",
    "    Takes as input:\n",
    "        train: the training factor data in the form a pandas DataFrame\n",
    "        test: the test factor data in the form a pandas DataFrame\n",
    "        verbose: if TRUE then prints out dependent column names\n",
    "    What it does:\n",
    "        Converts the training factor data to a numpy matrix then performs a QR\n",
    "        decomposition on it. Dependent columns are identified as all those that\n",
    "        do not have pivots (i.e., are within a certain tolerence of zero where\n",
    "        the pivot should be). These columns are then removed from the training\n",
    "        and test factor data\n",
    "    Returns:\n",
    "        linearly-independent DataFrame\n",
    "    '''\n",
    "    dependencies = []\n",
    "    Q, R = np.linalg.qr(np.matrix(df))\n",
    "    indep_locs = np.where(abs(R.diagonal())>1e-7)[1]\n",
    "    for i, col in enumerate(df.columns):\n",
    "        if i not in indep_locs:\n",
    "            dependencies.append(col)\n",
    "            if verbose:\n",
    "                print col\n",
    "    return df.drop(dependencies,1)"
   ]
  },
  {
   "cell_type": "code",
   "execution_count": 15,
   "metadata": {
    "collapsed": true
   },
   "outputs": [],
   "source": [
    "@retrieve # must add a leading filename arg in function call\n",
    "def cluster(folder):\n",
    "    cols = [\n",
    "            'start_district_hash', \n",
    "            'district_ID'\n",
    "           ]\n",
    "    parts = assemble_from_csvs(folder, cols)\n",
    "    df0 = pd.concat(parts, axis=0, ignore_index=True)\n",
    "    return df0"
   ]
  },
  {
   "cell_type": "code",
   "execution_count": 16,
   "metadata": {
    "collapsed": false
   },
   "outputs": [],
   "source": [
    "@retrieve # must add a leading filename arg in function call\n",
    "def create_order(folder, test, indexing=None):\n",
    "    cols = [\n",
    "            'order_id', \n",
    "            'driver_id', \n",
    "            'passenger_id', \n",
    "            'start_district_hash', \n",
    "            'dest_district_hash', \n",
    "            'Price', \n",
    "            'Time'\n",
    "           ]\n",
    "    parts = assemble_from_csvs(folder, cols)\n",
    "    df0 = pd.concat(parts, axis=0, ignore_index=True)\n",
    "    df0['UTC'] = df0['Time'].map(make_time)\n",
    "    df0['success'] = df0['driver_id'].map(lambda x: x is not np.nan)\n",
    "    df1 = pd.DataFrame()\n",
    "    grouping = ['start_district_hash', 'UTC']\n",
    "    df1['demand'] = summarize(df0, grouping, 'success', 'count')\n",
    "    df1['supply'] = summarize(df0, grouping, 'success', 'sum')\n",
    "    df1['med_price'] = summarize(df0, grouping, 'Price', 'median')    \n",
    "    df1['gap'] = df1['demand'] - df1['supply']\n",
    "    del df0\n",
    "    df1.reset_index(level=['start_district_hash', 'UTC'], inplace=True)\n",
    "    df1 = set_district_ID(df1, df_cluster_map, 'start_district_hash')\n",
    "    if indexing is not None:\n",
    "        df1 = NaNize(df1, indexing, ['district_ID', 'UTC'])\n",
    "        if test:\n",
    "            df1 = interpolate(df1,\n",
    "                              ['district_ID', 'UTC'], \n",
    "                              ['supply','demand','med_price','gap'],\n",
    "                             'values')\n",
    "            df1.fillna(method='bfill', inplace=True)\n",
    "        else:\n",
    "            df1.fillna(0, inplace=True)\n",
    "    df1['weekday'] = df1['UTC'].map(weekdaze)\n",
    "    return df1"
   ]
  },
  {
   "cell_type": "code",
   "execution_count": 17,
   "metadata": {
    "collapsed": true
   },
   "outputs": [],
   "source": [
    "@retrieve # must add a leading filename arg in function call\n",
    "def generate_interest(folder):\n",
    "    df0 = dictate(folder, [0], 'start_district_hash', dictate_from_subdict, 'poi')\n",
    "    df0.fillna(0, inplace=True)\n",
    "    df0 = set_district_ID(df0, df_cluster_map, 'start_district_hash')\n",
    "    df0 = pd.concat([df0['district_ID'], zap_dependencies(df0.drop('district_ID', 1), verbose=True)], axis=1)\n",
    "    return df0"
   ]
  },
  {
   "cell_type": "code",
   "execution_count": 18,
   "metadata": {
    "collapsed": false
   },
   "outputs": [],
   "source": [
    "@retrieve # must add a leading filename arg in function call\n",
    "def report_traffic(folder, indexing):\n",
    "    #import training traffic database\n",
    "    df0 = dictate(folder, [0,5], ['start_district_hash', 'Time'], dictate_from_subdict, 'traffic')\n",
    "    df0['UTC'] = df0['Time'].map(make_time)\n",
    "    df0.drop('Time', 1, inplace=True)\n",
    "    # match up district IDs\n",
    "    df0 = set_district_ID(df0, df_cluster_map, 'start_district_hash')\n",
    "    # make explicit missing data\n",
    "    df0 = NaNize(df0, indexing, ['district_ID', 'UTC'])\n",
    "    df0.set_index(['district_ID', 'UTC'], inplace=True)\n",
    "    # this is where we fill in District 54 missing info\n",
    "    # it could use some housekeeping\n",
    "    # SWITCH FROM AVERAGE TO MEDIAN\n",
    "    df0.loc[54,:]['traffic-1'] = (df0.loc[2,:]['traffic-1'] + df0.loc[36,:]['traffic-1'] \n",
    "                                  + df0.loc[57,:]['traffic-1'])/3\n",
    "    df0.loc[54,:]['traffic-2'] = (df0.loc[2,:]['traffic-2'] + df0.loc[36,:]['traffic-2'] \n",
    "                                  + df0.loc[57,:]['traffic-2'])/3\n",
    "    df0.loc[54,:]['traffic-3'] = (df0.loc[2,:]['traffic-3'] + df0.loc[36,:]['traffic-3'] \n",
    "                                  + df0.loc[57,:]['traffic-3'])/3\n",
    "    df0.loc[54,:]['traffic-4'] = (df0.loc[2,:]['traffic-4'] + df0.loc[36,:]['traffic-4'] \n",
    "                                  + df0.loc[57,:]['traffic-4'])/3\n",
    "    df0.reset_index(level=['district_ID', 'UTC'], inplace=True)\n",
    "    # interpolate missing data wherever possible\n",
    "    df0 = interpolate(df0, \n",
    "                      ['district_ID', 'UTC'], \n",
    "                      ['traffic-1','traffic-2','traffic-3','traffic-4'],\n",
    "                     'values')\n",
    "    df0.fillna(method='bfill', inplace=True)\n",
    "    return df0"
   ]
  },
  {
   "cell_type": "code",
   "execution_count": 19,
   "metadata": {
    "collapsed": false
   },
   "outputs": [],
   "source": [
    "@retrieve # must add a leading filename arg in function call\n",
    "def meteorology(folder, indexing):\n",
    "    df0 = dictate(folder, [0], 'Time', dictate_from_subarray)\n",
    "    df0['UTC'] = df0['Time'].map(make_time)\n",
    "    df0.drop('Time', 1, inplace=True)\n",
    "    df1 = pd.DataFrame()\n",
    "    grouping = ['UTC']\n",
    "    df1['weather'] = summarize(df0, grouping, 'weather', 'first')\n",
    "    df1['pm25'] = summarize(df0, grouping, 'pm25', 'mean')\n",
    "    df1['temp'] = summarize(df0, grouping, 'temp', 'mean') + 273.15 # convert to Kelvin\n",
    "    \n",
    "    del df0\n",
    "    df1.reset_index(level='UTC', inplace=True)\n",
    "    df1 = NaNize(df1, indexing, ['UTC'])\n",
    "    df1 = interpolate(df1, \n",
    "                      ['UTC'], \n",
    "                      ['temp','pm25'],\n",
    "                      'values')\n",
    "    df1 = interpolate(df1, \n",
    "                      ['UTC'], \n",
    "                      ['weather'],\n",
    "                      'nearest')    \n",
    "    df1.fillna(method='bfill', inplace=True)\n",
    "    return df1"
   ]
  },
  {
   "cell_type": "code",
   "execution_count": 20,
   "metadata": {
    "collapsed": true
   },
   "outputs": [],
   "source": [
    "@retrieve # must add a leading filename arg in function call\n",
    "def prep_for_submission(folder):\n",
    "    parts = assemble_from_csvs(folder, ['Interval'])\n",
    "    df0 = pd.concat(parts, axis=0, ignore_index=True)\n",
    "    df0 = df0[1:]\n",
    "    indexnames = ['Interval', 'district_ID']\n",
    "    multindex = pd.MultiIndex.from_product([df0['Interval'], df_cluster_map['district_ID']], \n",
    "                                           names=indexnames)\n",
    "    df1 = pd.DataFrame(index=multindex)\n",
    "    df1.reset_index(level=indexnames, inplace=True)\n",
    "    df1 = df1[['district_ID', 'Interval']]\n",
    "    df1['UTC'] = df1['Interval'].map(make_time2)\n",
    "    df1['weekday'] = df1['UTC'].map(weekdaze)\n",
    "    return df1"
   ]
  },
  {
   "cell_type": "code",
   "execution_count": 21,
   "metadata": {
    "collapsed": false
   },
   "outputs": [],
   "source": [
    "cluster_folder = './season_2/training_data/cluster_map'\n",
    "train_order_folder = './season_2/training_data/order_data'\n",
    "poi_folder = \"./season_2/training_data/poi_data\"\n",
    "train_traffic_folder = \"./season_2/training_data/traffic_data\"\n",
    "train_weather_folder = \"./season_2/training_data/weather_data\"\n",
    "\n",
    "df_cluster_map = cluster('Cluster_Map.csv', \n",
    "                         cluster_folder)\n",
    "df_order_train = create_order('Order_train.csv', \n",
    "                              train_order_folder, \n",
    "                              False,\n",
    "                              [xrange(1,67), xrange(1,3025)])\n",
    "df_poi = generate_interest('POI.csv', \n",
    "                           poi_folder)\n",
    "df_traffic_train = report_traffic('Traffic_train.csv', \n",
    "                                  train_traffic_folder,\n",
    "                                  [xrange(1,67), xrange(1,3025)])\n",
    "df_weather_train = meteorology('Weather_train.csv', \n",
    "                               train_weather_folder,\n",
    "                               [xrange(1,3025)])"
   ]
  },
  {
   "cell_type": "markdown",
   "metadata": {},
   "source": [
    "# A Closer Look at the Data\n",
    "\n",
    "Let's see what the training data entails. "
   ]
  },
  {
   "cell_type": "code",
   "execution_count": 22,
   "metadata": {
    "collapsed": false
   },
   "outputs": [
    {
     "data": {
      "text/html": [
       "<div>\n",
       "<table border=\"1\" class=\"dataframe\">\n",
       "  <thead>\n",
       "    <tr style=\"text-align: right;\">\n",
       "      <th></th>\n",
       "      <th>district_ID</th>\n",
       "      <th>UTC</th>\n",
       "      <th>demand</th>\n",
       "      <th>supply</th>\n",
       "      <th>med_price</th>\n",
       "      <th>gap</th>\n",
       "      <th>weekday</th>\n",
       "    </tr>\n",
       "  </thead>\n",
       "  <tbody>\n",
       "    <tr>\n",
       "      <th>0</th>\n",
       "      <td>1</td>\n",
       "      <td>1</td>\n",
       "      <td>187.0</td>\n",
       "      <td>178.0</td>\n",
       "      <td>12.0</td>\n",
       "      <td>9.0</td>\n",
       "      <td>0</td>\n",
       "    </tr>\n",
       "    <tr>\n",
       "      <th>1</th>\n",
       "      <td>1</td>\n",
       "      <td>2</td>\n",
       "      <td>198.0</td>\n",
       "      <td>191.0</td>\n",
       "      <td>10.0</td>\n",
       "      <td>7.0</td>\n",
       "      <td>0</td>\n",
       "    </tr>\n",
       "    <tr>\n",
       "      <th>2</th>\n",
       "      <td>1</td>\n",
       "      <td>3</td>\n",
       "      <td>192.0</td>\n",
       "      <td>182.0</td>\n",
       "      <td>11.0</td>\n",
       "      <td>10.0</td>\n",
       "      <td>0</td>\n",
       "    </tr>\n",
       "    <tr>\n",
       "      <th>3</th>\n",
       "      <td>1</td>\n",
       "      <td>4</td>\n",
       "      <td>172.0</td>\n",
       "      <td>167.0</td>\n",
       "      <td>11.5</td>\n",
       "      <td>5.0</td>\n",
       "      <td>0</td>\n",
       "    </tr>\n",
       "    <tr>\n",
       "      <th>4</th>\n",
       "      <td>1</td>\n",
       "      <td>5</td>\n",
       "      <td>153.0</td>\n",
       "      <td>152.0</td>\n",
       "      <td>11.0</td>\n",
       "      <td>1.0</td>\n",
       "      <td>0</td>\n",
       "    </tr>\n",
       "  </tbody>\n",
       "</table>\n",
       "</div>"
      ],
      "text/plain": [
       "   district_ID  UTC  demand  supply  med_price   gap  weekday\n",
       "0            1    1   187.0   178.0       12.0   9.0        0\n",
       "1            1    2   198.0   191.0       10.0   7.0        0\n",
       "2            1    3   192.0   182.0       11.0  10.0        0\n",
       "3            1    4   172.0   167.0       11.5   5.0        0\n",
       "4            1    5   153.0   152.0       11.0   1.0        0"
      ]
     },
     "execution_count": 22,
     "metadata": {},
     "output_type": "execute_result"
    }
   ],
   "source": [
    "df_order_train.head()"
   ]
  },
  {
   "cell_type": "code",
   "execution_count": 23,
   "metadata": {
    "collapsed": false
   },
   "outputs": [
    {
     "data": {
      "text/html": [
       "<div>\n",
       "<table border=\"1\" class=\"dataframe\">\n",
       "  <thead>\n",
       "    <tr style=\"text-align: right;\">\n",
       "      <th></th>\n",
       "      <th>district_ID</th>\n",
       "      <th>UTC</th>\n",
       "      <th>demand</th>\n",
       "      <th>supply</th>\n",
       "      <th>med_price</th>\n",
       "      <th>gap</th>\n",
       "      <th>weekday</th>\n",
       "    </tr>\n",
       "  </thead>\n",
       "  <tbody>\n",
       "    <tr>\n",
       "      <th>0</th>\n",
       "      <td>1</td>\n",
       "      <td>1</td>\n",
       "      <td>187.0</td>\n",
       "      <td>178.0</td>\n",
       "      <td>12.0</td>\n",
       "      <td>9.0</td>\n",
       "      <td>0</td>\n",
       "    </tr>\n",
       "    <tr>\n",
       "      <th>1</th>\n",
       "      <td>1</td>\n",
       "      <td>2</td>\n",
       "      <td>198.0</td>\n",
       "      <td>191.0</td>\n",
       "      <td>10.0</td>\n",
       "      <td>7.0</td>\n",
       "      <td>0</td>\n",
       "    </tr>\n",
       "    <tr>\n",
       "      <th>2</th>\n",
       "      <td>1</td>\n",
       "      <td>3</td>\n",
       "      <td>192.0</td>\n",
       "      <td>182.0</td>\n",
       "      <td>11.0</td>\n",
       "      <td>10.0</td>\n",
       "      <td>0</td>\n",
       "    </tr>\n",
       "    <tr>\n",
       "      <th>3</th>\n",
       "      <td>1</td>\n",
       "      <td>4</td>\n",
       "      <td>172.0</td>\n",
       "      <td>167.0</td>\n",
       "      <td>11.5</td>\n",
       "      <td>5.0</td>\n",
       "      <td>0</td>\n",
       "    </tr>\n",
       "    <tr>\n",
       "      <th>4</th>\n",
       "      <td>1</td>\n",
       "      <td>5</td>\n",
       "      <td>153.0</td>\n",
       "      <td>152.0</td>\n",
       "      <td>11.0</td>\n",
       "      <td>1.0</td>\n",
       "      <td>0</td>\n",
       "    </tr>\n",
       "  </tbody>\n",
       "</table>\n",
       "</div>"
      ],
      "text/plain": [
       "   district_ID  UTC  demand  supply  med_price   gap  weekday\n",
       "0            1    1   187.0   178.0       12.0   9.0        0\n",
       "1            1    2   198.0   191.0       10.0   7.0        0\n",
       "2            1    3   192.0   182.0       11.0  10.0        0\n",
       "3            1    4   172.0   167.0       11.5   5.0        0\n",
       "4            1    5   153.0   152.0       11.0   1.0        0"
      ]
     },
     "execution_count": 23,
     "metadata": {},
     "output_type": "execute_result"
    }
   ],
   "source": [
    "df_order_train.head()"
   ]
  },
  {
   "cell_type": "code",
   "execution_count": 24,
   "metadata": {
    "collapsed": false
   },
   "outputs": [
    {
     "data": {
      "text/html": [
       "<div>\n",
       "<table border=\"1\" class=\"dataframe\">\n",
       "  <thead>\n",
       "    <tr style=\"text-align: right;\">\n",
       "      <th></th>\n",
       "      <th>district_ID</th>\n",
       "      <th>poi-1</th>\n",
       "      <th>poi-1#1</th>\n",
       "      <th>poi-1#10</th>\n",
       "      <th>poi-1#11</th>\n",
       "      <th>poi-1#2</th>\n",
       "      <th>poi-1#3</th>\n",
       "      <th>poi-1#4</th>\n",
       "      <th>poi-1#5</th>\n",
       "      <th>poi-1#6</th>\n",
       "      <th>...</th>\n",
       "      <th>poi-16#12</th>\n",
       "      <th>poi-16#2</th>\n",
       "      <th>poi-16#3</th>\n",
       "      <th>poi-16#4</th>\n",
       "      <th>poi-16#5</th>\n",
       "      <th>poi-16#6</th>\n",
       "      <th>poi-16#8</th>\n",
       "      <th>poi-16#9</th>\n",
       "      <th>poi-17</th>\n",
       "      <th>poi-17#1</th>\n",
       "    </tr>\n",
       "  </thead>\n",
       "  <tbody>\n",
       "    <tr>\n",
       "      <th>0</th>\n",
       "      <td>50</td>\n",
       "      <td>83.0</td>\n",
       "      <td>83.0</td>\n",
       "      <td>0.0</td>\n",
       "      <td>166.0</td>\n",
       "      <td>249.0</td>\n",
       "      <td>83.0</td>\n",
       "      <td>0.0</td>\n",
       "      <td>581.0</td>\n",
       "      <td>83.0</td>\n",
       "      <td>...</td>\n",
       "      <td>332.0</td>\n",
       "      <td>0.0</td>\n",
       "      <td>249.0</td>\n",
       "      <td>747.0</td>\n",
       "      <td>0.0</td>\n",
       "      <td>0.0</td>\n",
       "      <td>0.0</td>\n",
       "      <td>0.0</td>\n",
       "      <td>0.0</td>\n",
       "      <td>0.0</td>\n",
       "    </tr>\n",
       "    <tr>\n",
       "      <th>1</th>\n",
       "      <td>43</td>\n",
       "      <td>83.0</td>\n",
       "      <td>332.0</td>\n",
       "      <td>0.0</td>\n",
       "      <td>83.0</td>\n",
       "      <td>83.0</td>\n",
       "      <td>0.0</td>\n",
       "      <td>166.0</td>\n",
       "      <td>0.0</td>\n",
       "      <td>249.0</td>\n",
       "      <td>...</td>\n",
       "      <td>1245.0</td>\n",
       "      <td>166.0</td>\n",
       "      <td>0.0</td>\n",
       "      <td>1079.0</td>\n",
       "      <td>0.0</td>\n",
       "      <td>0.0</td>\n",
       "      <td>0.0</td>\n",
       "      <td>0.0</td>\n",
       "      <td>0.0</td>\n",
       "      <td>0.0</td>\n",
       "    </tr>\n",
       "    <tr>\n",
       "      <th>2</th>\n",
       "      <td>63</td>\n",
       "      <td>83.0</td>\n",
       "      <td>0.0</td>\n",
       "      <td>0.0</td>\n",
       "      <td>332.0</td>\n",
       "      <td>83.0</td>\n",
       "      <td>0.0</td>\n",
       "      <td>83.0</td>\n",
       "      <td>415.0</td>\n",
       "      <td>0.0</td>\n",
       "      <td>...</td>\n",
       "      <td>664.0</td>\n",
       "      <td>0.0</td>\n",
       "      <td>166.0</td>\n",
       "      <td>415.0</td>\n",
       "      <td>0.0</td>\n",
       "      <td>0.0</td>\n",
       "      <td>0.0</td>\n",
       "      <td>0.0</td>\n",
       "      <td>249.0</td>\n",
       "      <td>0.0</td>\n",
       "    </tr>\n",
       "    <tr>\n",
       "      <th>3</th>\n",
       "      <td>46</td>\n",
       "      <td>2075.0</td>\n",
       "      <td>166.0</td>\n",
       "      <td>249.0</td>\n",
       "      <td>1909.0</td>\n",
       "      <td>1328.0</td>\n",
       "      <td>249.0</td>\n",
       "      <td>166.0</td>\n",
       "      <td>7304.0</td>\n",
       "      <td>0.0</td>\n",
       "      <td>...</td>\n",
       "      <td>1162.0</td>\n",
       "      <td>0.0</td>\n",
       "      <td>166.0</td>\n",
       "      <td>4731.0</td>\n",
       "      <td>0.0</td>\n",
       "      <td>83.0</td>\n",
       "      <td>0.0</td>\n",
       "      <td>0.0</td>\n",
       "      <td>2324.0</td>\n",
       "      <td>0.0</td>\n",
       "    </tr>\n",
       "    <tr>\n",
       "      <th>4</th>\n",
       "      <td>56</td>\n",
       "      <td>0.0</td>\n",
       "      <td>0.0</td>\n",
       "      <td>0.0</td>\n",
       "      <td>166.0</td>\n",
       "      <td>0.0</td>\n",
       "      <td>83.0</td>\n",
       "      <td>0.0</td>\n",
       "      <td>249.0</td>\n",
       "      <td>0.0</td>\n",
       "      <td>...</td>\n",
       "      <td>498.0</td>\n",
       "      <td>0.0</td>\n",
       "      <td>83.0</td>\n",
       "      <td>581.0</td>\n",
       "      <td>0.0</td>\n",
       "      <td>0.0</td>\n",
       "      <td>166.0</td>\n",
       "      <td>0.0</td>\n",
       "      <td>0.0</td>\n",
       "      <td>0.0</td>\n",
       "    </tr>\n",
       "  </tbody>\n",
       "</table>\n",
       "<p>5 rows × 64 columns</p>\n",
       "</div>"
      ],
      "text/plain": [
       "   district_ID   poi-1  poi-1#1  poi-1#10  poi-1#11  poi-1#2  poi-1#3  \\\n",
       "0           50    83.0     83.0       0.0     166.0    249.0     83.0   \n",
       "1           43    83.0    332.0       0.0      83.0     83.0      0.0   \n",
       "2           63    83.0      0.0       0.0     332.0     83.0      0.0   \n",
       "3           46  2075.0    166.0     249.0    1909.0   1328.0    249.0   \n",
       "4           56     0.0      0.0       0.0     166.0      0.0     83.0   \n",
       "\n",
       "   poi-1#4  poi-1#5  poi-1#6    ...     poi-16#12  poi-16#2  poi-16#3  \\\n",
       "0      0.0    581.0     83.0    ...         332.0       0.0     249.0   \n",
       "1    166.0      0.0    249.0    ...        1245.0     166.0       0.0   \n",
       "2     83.0    415.0      0.0    ...         664.0       0.0     166.0   \n",
       "3    166.0   7304.0      0.0    ...        1162.0       0.0     166.0   \n",
       "4      0.0    249.0      0.0    ...         498.0       0.0      83.0   \n",
       "\n",
       "   poi-16#4  poi-16#5  poi-16#6  poi-16#8  poi-16#9  poi-17  poi-17#1  \n",
       "0     747.0       0.0       0.0       0.0       0.0     0.0       0.0  \n",
       "1    1079.0       0.0       0.0       0.0       0.0     0.0       0.0  \n",
       "2     415.0       0.0       0.0       0.0       0.0   249.0       0.0  \n",
       "3    4731.0       0.0      83.0       0.0       0.0  2324.0       0.0  \n",
       "4     581.0       0.0       0.0     166.0       0.0     0.0       0.0  \n",
       "\n",
       "[5 rows x 64 columns]"
      ]
     },
     "execution_count": 24,
     "metadata": {},
     "output_type": "execute_result"
    }
   ],
   "source": [
    "df_poi.head()"
   ]
  },
  {
   "cell_type": "code",
   "execution_count": 25,
   "metadata": {
    "collapsed": false
   },
   "outputs": [
    {
     "data": {
      "text/html": [
       "<div>\n",
       "<table border=\"1\" class=\"dataframe\">\n",
       "  <thead>\n",
       "    <tr style=\"text-align: right;\">\n",
       "      <th></th>\n",
       "      <th>UTC</th>\n",
       "      <th>demand</th>\n",
       "      <th>supply</th>\n",
       "      <th>med_price</th>\n",
       "      <th>gap</th>\n",
       "      <th>weekday</th>\n",
       "    </tr>\n",
       "    <tr>\n",
       "      <th>district_ID</th>\n",
       "      <th></th>\n",
       "      <th></th>\n",
       "      <th></th>\n",
       "      <th></th>\n",
       "      <th></th>\n",
       "      <th></th>\n",
       "    </tr>\n",
       "  </thead>\n",
       "  <tbody>\n",
       "    <tr>\n",
       "      <th>2</th>\n",
       "      <td>1512.5</td>\n",
       "      <td>17.0</td>\n",
       "      <td>16.0</td>\n",
       "      <td>7.00</td>\n",
       "      <td>0.0</td>\n",
       "      <td>3.0</td>\n",
       "    </tr>\n",
       "    <tr>\n",
       "      <th>36</th>\n",
       "      <td>1512.5</td>\n",
       "      <td>16.0</td>\n",
       "      <td>15.0</td>\n",
       "      <td>8.35</td>\n",
       "      <td>0.0</td>\n",
       "      <td>3.0</td>\n",
       "    </tr>\n",
       "    <tr>\n",
       "      <th>54</th>\n",
       "      <td>1512.5</td>\n",
       "      <td>14.0</td>\n",
       "      <td>13.0</td>\n",
       "      <td>8.00</td>\n",
       "      <td>0.0</td>\n",
       "      <td>3.0</td>\n",
       "    </tr>\n",
       "    <tr>\n",
       "      <th>57</th>\n",
       "      <td>1512.5</td>\n",
       "      <td>11.0</td>\n",
       "      <td>11.0</td>\n",
       "      <td>8.00</td>\n",
       "      <td>0.0</td>\n",
       "      <td>3.0</td>\n",
       "    </tr>\n",
       "    <tr>\n",
       "      <th>35</th>\n",
       "      <td>1512.5</td>\n",
       "      <td>9.0</td>\n",
       "      <td>8.0</td>\n",
       "      <td>15.00</td>\n",
       "      <td>0.0</td>\n",
       "      <td>3.0</td>\n",
       "    </tr>\n",
       "    <tr>\n",
       "      <th>13</th>\n",
       "      <td>1512.5</td>\n",
       "      <td>9.0</td>\n",
       "      <td>9.0</td>\n",
       "      <td>11.50</td>\n",
       "      <td>0.0</td>\n",
       "      <td>3.0</td>\n",
       "    </tr>\n",
       "    <tr>\n",
       "      <th>53</th>\n",
       "      <td>1512.5</td>\n",
       "      <td>8.5</td>\n",
       "      <td>8.0</td>\n",
       "      <td>14.50</td>\n",
       "      <td>0.0</td>\n",
       "      <td>3.0</td>\n",
       "    </tr>\n",
       "  </tbody>\n",
       "</table>\n",
       "</div>"
      ],
      "text/plain": [
       "                UTC  demand  supply  med_price  gap  weekday\n",
       "district_ID                                                 \n",
       "2            1512.5    17.0    16.0       7.00  0.0      3.0\n",
       "36           1512.5    16.0    15.0       8.35  0.0      3.0\n",
       "54           1512.5    14.0    13.0       8.00  0.0      3.0\n",
       "57           1512.5    11.0    11.0       8.00  0.0      3.0\n",
       "35           1512.5     9.0     8.0      15.00  0.0      3.0\n",
       "13           1512.5     9.0     9.0      11.50  0.0      3.0\n",
       "53           1512.5     8.5     8.0      14.50  0.0      3.0"
      ]
     },
     "execution_count": 25,
     "metadata": {},
     "output_type": "execute_result"
    }
   ],
   "source": [
    "generalization = df_order_train.groupby('district_ID').median()\n",
    "generalization[generalization['gap']==0].sort_values('demand', ascending=False).head(7)"
   ]
  },
  {
   "cell_type": "code",
   "execution_count": 26,
   "metadata": {
    "collapsed": false
   },
   "outputs": [
    {
     "data": {
      "text/html": [
       "<div>\n",
       "<table border=\"1\" class=\"dataframe\">\n",
       "  <thead>\n",
       "    <tr style=\"text-align: right;\">\n",
       "      <th></th>\n",
       "      <th>district_ID</th>\n",
       "      <th>UTC</th>\n",
       "      <th>traffic-1</th>\n",
       "      <th>traffic-2</th>\n",
       "      <th>traffic-3</th>\n",
       "      <th>traffic-4</th>\n",
       "    </tr>\n",
       "  </thead>\n",
       "  <tbody>\n",
       "    <tr>\n",
       "      <th>0</th>\n",
       "      <td>1</td>\n",
       "      <td>1</td>\n",
       "      <td>1399.0</td>\n",
       "      <td>318.0</td>\n",
       "      <td>102.0</td>\n",
       "      <td>94.0</td>\n",
       "    </tr>\n",
       "    <tr>\n",
       "      <th>1</th>\n",
       "      <td>1</td>\n",
       "      <td>2</td>\n",
       "      <td>1399.0</td>\n",
       "      <td>318.0</td>\n",
       "      <td>102.0</td>\n",
       "      <td>94.0</td>\n",
       "    </tr>\n",
       "    <tr>\n",
       "      <th>2</th>\n",
       "      <td>1</td>\n",
       "      <td>3</td>\n",
       "      <td>1491.0</td>\n",
       "      <td>322.0</td>\n",
       "      <td>99.0</td>\n",
       "      <td>64.0</td>\n",
       "    </tr>\n",
       "    <tr>\n",
       "      <th>3</th>\n",
       "      <td>1</td>\n",
       "      <td>4</td>\n",
       "      <td>1490.0</td>\n",
       "      <td>287.0</td>\n",
       "      <td>98.0</td>\n",
       "      <td>78.0</td>\n",
       "    </tr>\n",
       "    <tr>\n",
       "      <th>4</th>\n",
       "      <td>1</td>\n",
       "      <td>5</td>\n",
       "      <td>1425.0</td>\n",
       "      <td>302.0</td>\n",
       "      <td>95.0</td>\n",
       "      <td>51.0</td>\n",
       "    </tr>\n",
       "  </tbody>\n",
       "</table>\n",
       "</div>"
      ],
      "text/plain": [
       "   district_ID  UTC  traffic-1  traffic-2  traffic-3  traffic-4\n",
       "0            1    1     1399.0      318.0      102.0       94.0\n",
       "1            1    2     1399.0      318.0      102.0       94.0\n",
       "2            1    3     1491.0      322.0       99.0       64.0\n",
       "3            1    4     1490.0      287.0       98.0       78.0\n",
       "4            1    5     1425.0      302.0       95.0       51.0"
      ]
     },
     "execution_count": 26,
     "metadata": {},
     "output_type": "execute_result"
    }
   ],
   "source": [
    "df_traffic_train.head()"
   ]
  },
  {
   "cell_type": "code",
   "execution_count": 27,
   "metadata": {
    "collapsed": false
   },
   "outputs": [
    {
     "data": {
      "text/plain": [
       "<matplotlib.axes._subplots.AxesSubplot at 0x7fd5316f4450>"
      ]
     },
     "execution_count": 27,
     "metadata": {},
     "output_type": "execute_result"
    },
    {
     "data": {
      "image/png": "[encoded data removed]",
      "text/plain": [
       "<matplotlib.figure.Figure at 0x7fd531714c90>"
      ]
     },
     "metadata": {},
     "output_type": "display_data"
    }
   ],
   "source": [
    "df_weather_train['weather'].value_counts().plot.bar(figsize=(8, 5))"
   ]
  },
  {
   "cell_type": "code",
   "execution_count": 28,
   "metadata": {
    "collapsed": false
   },
   "outputs": [
    {
     "data": {
      "text/html": [
       "<div>\n",
       "<table border=\"1\" class=\"dataframe\">\n",
       "  <thead>\n",
       "    <tr style=\"text-align: right;\">\n",
       "      <th></th>\n",
       "      <th>UTC</th>\n",
       "      <th>weather</th>\n",
       "      <th>pm25</th>\n",
       "      <th>temp</th>\n",
       "    </tr>\n",
       "  </thead>\n",
       "  <tbody>\n",
       "    <tr>\n",
       "      <th>0</th>\n",
       "      <td>1</td>\n",
       "      <td>1.0</td>\n",
       "      <td>177.0</td>\n",
       "      <td>276.65</td>\n",
       "    </tr>\n",
       "    <tr>\n",
       "      <th>1</th>\n",
       "      <td>2</td>\n",
       "      <td>1.0</td>\n",
       "      <td>177.0</td>\n",
       "      <td>276.15</td>\n",
       "    </tr>\n",
       "    <tr>\n",
       "      <th>2</th>\n",
       "      <td>3</td>\n",
       "      <td>1.0</td>\n",
       "      <td>177.0</td>\n",
       "      <td>276.15</td>\n",
       "    </tr>\n",
       "    <tr>\n",
       "      <th>3</th>\n",
       "      <td>4</td>\n",
       "      <td>1.0</td>\n",
       "      <td>177.0</td>\n",
       "      <td>276.15</td>\n",
       "    </tr>\n",
       "    <tr>\n",
       "      <th>4</th>\n",
       "      <td>5</td>\n",
       "      <td>1.0</td>\n",
       "      <td>177.0</td>\n",
       "      <td>276.15</td>\n",
       "    </tr>\n",
       "  </tbody>\n",
       "</table>\n",
       "</div>"
      ],
      "text/plain": [
       "   UTC  weather   pm25    temp\n",
       "0    1      1.0  177.0  276.65\n",
       "1    2      1.0  177.0  276.15\n",
       "2    3      1.0  177.0  276.15\n",
       "3    4      1.0  177.0  276.15\n",
       "4    5      1.0  177.0  276.15"
      ]
     },
     "execution_count": 28,
     "metadata": {},
     "output_type": "execute_result"
    }
   ],
   "source": [
    "df_weather_train.head()"
   ]
  },
  {
   "cell_type": "code",
   "execution_count": 29,
   "metadata": {
    "collapsed": false
   },
   "outputs": [
    {
     "data": {
      "text/plain": [
       "(0.9, 100000)"
      ]
     },
     "execution_count": 29,
     "metadata": {},
     "output_type": "execute_result"
    },
    {
     "data": {
      "image/png": "[encoded data removed]",
      "text/plain": [
       "<matplotlib.figure.Figure at 0x7fd531714710>"
      ]
     },
     "metadata": {},
     "output_type": "display_data"
    }
   ],
   "source": [
    "counts = df_order_train['gap'].value_counts()\n",
    "gaps = list(counts.index)\n",
    "\n",
    "plt.figure(figsize=(13, 8))\n",
    "plt.scatter(gaps, counts)\n",
    "plt.xlabel('gap', size=16)\n",
    "plt.yscale('log')\n",
    "plt.ylabel('count', size=16)\n",
    "plt.xticks(size=16)\n",
    "plt.yticks(size=16)\n",
    "plt.xlim([-10,3500])\n",
    "plt.ylim([0.9,100000])"
   ]
  },
  {
   "cell_type": "code",
   "execution_count": 30,
   "metadata": {
    "collapsed": false
   },
   "outputs": [
    {
     "data": {
      "text/plain": [
       "(0.9, 100000)"
      ]
     },
     "execution_count": 30,
     "metadata": {},
     "output_type": "execute_result"
    },
    {
     "data": {
      "image/png": "[encoded data removed]",
      "text/plain": [
       "<matplotlib.figure.Figure at 0x7fd530f43690>"
      ]
     },
     "metadata": {},
     "output_type": "display_data"
    }
   ],
   "source": [
    "counts = df_order_train['gap'].value_counts()\n",
    "gaps = list(counts.index)\n",
    "\n",
    "plt.figure(figsize=(13, 8))\n",
    "plt.scatter(gaps, counts)\n",
    "plt.xlabel('gap', size=16)\n",
    "plt.yscale('log')\n",
    "plt.ylabel('count', size=16)\n",
    "plt.xticks(size=16)\n",
    "plt.yticks(size=16)\n",
    "plt.xlim([-1,250])\n",
    "plt.ylim([0.9,100000])"
   ]
  },
  {
   "cell_type": "code",
   "execution_count": 31,
   "metadata": {
    "collapsed": false
   },
   "outputs": [
    {
     "data": {
      "text/plain": [
       "(array([  0.,   5.,  10.,  15.,  20.,  25.]),\n",
       " <a list of 6 Text yticklabel objects>)"
      ]
     },
     "execution_count": 31,
     "metadata": {},
     "output_type": "execute_result"
    },
    {
     "data": {
      "image/png": "[encoded data removed]",
      "text/plain": [
       "<matplotlib.figure.Figure at 0x7fd52d8b6a90>"
      ]
     },
     "metadata": {},
     "output_type": "display_data"
    }
   ],
   "source": [
    "dID_data = df_order_train.groupby('district_ID').median()\n",
    "plt.figure(figsize=(13, 8))\n",
    "dID_data['gap'].plot.bar()\n",
    "plt.xlabel('district ID', size=16)\n",
    "plt.ylabel('median gap', size=16)\n",
    "plt.xticks(size=12)\n",
    "plt.yticks(size=16)"
   ]
  },
  {
   "cell_type": "markdown",
   "metadata": {},
   "source": [
    "# Prepare the Data"
   ]
  },
  {
   "cell_type": "code",
   "execution_count": 32,
   "metadata": {
    "collapsed": false
   },
   "outputs": [],
   "source": [
    "def get_priors(df, df_2, period, findices, columns):\n",
    "    df_prior = df_2.copy()\n",
    "    df_prior['UTC'] = df_prior['UTC'] + period\n",
    "    df_prior = df_prior[findices+columns]\n",
    "    df = pd.merge(df, df_prior, on=findices, how='left')\n",
    "    df = df.rename(columns={col : 'prior%s_%s' % (period, col) for col in columns})\n",
    "    del df_prior\n",
    "    return df"
   ]
  },
  {
   "cell_type": "code",
   "execution_count": 33,
   "metadata": {
    "collapsed": true
   },
   "outputs": [],
   "source": [
    "def log(df, cols):\n",
    "    for col in cols:\n",
    "        df['log_%s' % col] = np.log(df[col]+1)\n",
    "    return df"
   ]
  },
  {
   "cell_type": "code",
   "execution_count": 34,
   "metadata": {
    "collapsed": true
   },
   "outputs": [],
   "source": [
    "def onehot_encode(df, cols):\n",
    "    return pd.get_dummies(df, columns=cols)"
   ]
  },
  {
   "cell_type": "code",
   "execution_count": 35,
   "metadata": {
    "collapsed": true
   },
   "outputs": [],
   "source": [
    "def normalize(df, df_ref, columns):\n",
    "    for col in columns:\n",
    "        df[col] = (df[col] - df_ref[col].mean()) / df_ref[col].std()\n",
    "    return df"
   ]
  },
  {
   "cell_type": "code",
   "execution_count": 36,
   "metadata": {
    "collapsed": false
   },
   "outputs": [],
   "source": [
    "training_data = df_order_train[['district_ID', 'UTC','weekday', 'gap']]\n",
    "training_data = training_data.rename(columns={'gap' : 'y'})\n",
    "training_data = pd.merge(training_data, df_poi, on=['district_ID'], how='left')\n",
    "training_data = (training_data.pipe(get_priors, df_order_train, 1, ['district_ID', 'UTC'], \n",
    "                                    ['demand', 'supply', 'med_price'])\n",
    "                              .pipe(get_priors, df_order_train, 2, ['district_ID', 'UTC'], \n",
    "                                    ['demand', 'supply', 'med_price'])\n",
    "                              .pipe(get_priors, df_order_train, 3, ['district_ID', 'UTC'], \n",
    "                                    ['demand', 'supply', 'med_price'])\n",
    "                              .pipe(get_priors, df_traffic_train, 1, ['district_ID', 'UTC'], \n",
    "                                    ['traffic-1', 'traffic-2', 'traffic-3', 'traffic-4'])\n",
    "                              .pipe(get_priors, df_traffic_train, 2, ['district_ID', 'UTC'], \n",
    "                                    ['traffic-1', 'traffic-2', 'traffic-3', 'traffic-4'])\n",
    "                              .pipe(get_priors, df_traffic_train, 3, ['district_ID', 'UTC'], \n",
    "                                    ['traffic-1', 'traffic-2', 'traffic-3', 'traffic-4'])\n",
    "                              .pipe(get_priors, df_weather_train, 1, ['UTC'], \n",
    "                                    ['weather', 'pm25', 'temp'])\n",
    "                              .pipe(get_priors, df_weather_train, 2, ['UTC'], \n",
    "                                    ['weather', 'pm25', 'temp'])\n",
    "                              .pipe(get_priors, df_weather_train, 3, ['UTC'], \n",
    "                                    ['weather', 'pm25', 'temp']))\n",
    "# incomplete/missing prior period data for the two earliest time intervals\n",
    "training_data = training_data[training_data['UTC']>3]\n",
    "training_data.reset_index(drop=True, inplace=True)\n",
    "loggers = set(training_data.columns).difference(['y', 'district_ID', 'UTC','prior1_weather', \n",
    "                                                 'prior2_weather', 'prior3_weather', 'weekday'])\n",
    "training_data = log(training_data, loggers)\n",
    "training_data['district'] = training_data['district_ID']\n",
    "training_data = onehot_encode(training_data, ['prior1_weather', 'prior2_weather', \n",
    "                                              'prior3_weather', 'weekday', 'district'])\n",
    "ref_data = training_data.copy()\n",
    "normalizers = set(training_data.columns).difference(['y', 'district_ID', 'UTC'])\n",
    "training_data = normalize(training_data, training_data, normalizers)"
   ]
  },
  {
   "cell_type": "code",
   "execution_count": 37,
   "metadata": {
    "collapsed": false
   },
   "outputs": [
    {
     "data": {
      "text/plain": [
       "district_66             0\n",
       "log_prior1_traffic-4    0\n",
       "prior1_pm25             0\n",
       "prior1_temp             0\n",
       "prior2_pm25             0\n",
       "prior2_temp             0\n",
       "prior3_pm25             0\n",
       "prior3_temp             0\n",
       "log_poi-13#8            0\n",
       "prior1_med_price        0\n",
       "log_prior1_traffic-1    0\n",
       "log_prior1_traffic-2    0\n",
       "log_prior1_traffic-3    0\n",
       "log_poi-13#4            0\n",
       "log_poi-13#5            0\n",
       "log_poi-13#6            0\n",
       "prior3_traffic-4        0\n",
       "prior3_traffic-3        0\n",
       "prior3_traffic-2        0\n",
       "prior3_traffic-1        0\n",
       "prior2_traffic-4        0\n",
       "prior2_traffic-3        0\n",
       "prior2_traffic-2        0\n",
       "prior2_traffic-1        0\n",
       "prior1_traffic-4        0\n",
       "prior1_traffic-3        0\n",
       "prior1_traffic-2        0\n",
       "prior1_traffic-1        0\n",
       "prior3_med_price        0\n",
       "prior3_supply           0\n",
       "                       ..\n",
       "weekday_0               0\n",
       "prior3_weather_9.0      0\n",
       "prior3_weather_8.0      0\n",
       "prior3_weather_4.0      0\n",
       "prior3_weather_3.0      0\n",
       "prior3_weather_2.0      0\n",
       "prior3_weather_1.0      0\n",
       "prior2_weather_9.0      0\n",
       "prior2_weather_8.0      0\n",
       "prior2_weather_4.0      0\n",
       "prior2_weather_3.0      0\n",
       "prior2_weather_2.0      0\n",
       "prior2_weather_1.0      0\n",
       "prior1_weather_8.0      0\n",
       "log_prior1_temp         0\n",
       "prior1_weather_4.0      0\n",
       "prior1_weather_3.0      0\n",
       "prior1_weather_2.0      0\n",
       "prior1_weather_1.0      0\n",
       "log_poi-17#1            0\n",
       "log_prior3_pm25         0\n",
       "log_poi-11#2            0\n",
       "log_prior2_med_price    0\n",
       "log_prior2_supply       0\n",
       "log_poi-16#4            0\n",
       "log_poi-16#5            0\n",
       "log_poi-14#4            0\n",
       "log_poi-16#3            0\n",
       "log_prior3_temp         0\n",
       "district_ID             0\n",
       "dtype: int64"
      ]
     },
     "execution_count": 37,
     "metadata": {},
     "output_type": "execute_result"
    }
   ],
   "source": [
    "training_data.isnull().sum().sort_values(ascending=False)"
   ]
  },
  {
   "cell_type": "code",
   "execution_count": 38,
   "metadata": {
    "collapsed": false
   },
   "outputs": [
    {
     "name": "stdout",
     "output_type": "stream",
     "text": [
      "<class 'pandas.core.frame.DataFrame'>\n",
      "RangeIndex: 199386 entries, 0 to 199385\n",
      "Columns: 274 entries, district_ID to district_66\n",
      "dtypes: float64(272), int64(2)\n",
      "memory usage: 416.8 MB\n"
     ]
    }
   ],
   "source": [
    "training_data.info()"
   ]
  },
  {
   "cell_type": "code",
   "execution_count": 39,
   "metadata": {
    "collapsed": false
   },
   "outputs": [
    {
     "data": {
      "text/html": [
       "<div>\n",
       "<table border=\"1\" class=\"dataframe\">\n",
       "  <thead>\n",
       "    <tr style=\"text-align: right;\">\n",
       "      <th></th>\n",
       "      <th>district_ID</th>\n",
       "      <th>UTC</th>\n",
       "      <th>y</th>\n",
       "      <th>poi-1</th>\n",
       "      <th>poi-1#1</th>\n",
       "      <th>poi-1#10</th>\n",
       "      <th>poi-1#11</th>\n",
       "      <th>poi-1#2</th>\n",
       "      <th>poi-1#3</th>\n",
       "      <th>poi-1#4</th>\n",
       "      <th>...</th>\n",
       "      <th>district_57</th>\n",
       "      <th>district_58</th>\n",
       "      <th>district_59</th>\n",
       "      <th>district_60</th>\n",
       "      <th>district_61</th>\n",
       "      <th>district_62</th>\n",
       "      <th>district_63</th>\n",
       "      <th>district_64</th>\n",
       "      <th>district_65</th>\n",
       "      <th>district_66</th>\n",
       "    </tr>\n",
       "  </thead>\n",
       "  <tbody>\n",
       "    <tr>\n",
       "      <th>0</th>\n",
       "      <td>1</td>\n",
       "      <td>4</td>\n",
       "      <td>5.0</td>\n",
       "      <td>0.949845</td>\n",
       "      <td>2.017071</td>\n",
       "      <td>2.984516</td>\n",
       "      <td>2.406854</td>\n",
       "      <td>1.269521</td>\n",
       "      <td>-0.426898</td>\n",
       "      <td>-0.146782</td>\n",
       "      <td>...</td>\n",
       "      <td>-0.124034</td>\n",
       "      <td>-0.124034</td>\n",
       "      <td>-0.124034</td>\n",
       "      <td>-0.124034</td>\n",
       "      <td>-0.124034</td>\n",
       "      <td>-0.124034</td>\n",
       "      <td>-0.124034</td>\n",
       "      <td>-0.124034</td>\n",
       "      <td>-0.124034</td>\n",
       "      <td>-0.124034</td>\n",
       "    </tr>\n",
       "    <tr>\n",
       "      <th>1</th>\n",
       "      <td>1</td>\n",
       "      <td>5</td>\n",
       "      <td>1.0</td>\n",
       "      <td>0.949845</td>\n",
       "      <td>2.017071</td>\n",
       "      <td>2.984516</td>\n",
       "      <td>2.406854</td>\n",
       "      <td>1.269521</td>\n",
       "      <td>-0.426898</td>\n",
       "      <td>-0.146782</td>\n",
       "      <td>...</td>\n",
       "      <td>-0.124034</td>\n",
       "      <td>-0.124034</td>\n",
       "      <td>-0.124034</td>\n",
       "      <td>-0.124034</td>\n",
       "      <td>-0.124034</td>\n",
       "      <td>-0.124034</td>\n",
       "      <td>-0.124034</td>\n",
       "      <td>-0.124034</td>\n",
       "      <td>-0.124034</td>\n",
       "      <td>-0.124034</td>\n",
       "    </tr>\n",
       "    <tr>\n",
       "      <th>2</th>\n",
       "      <td>1</td>\n",
       "      <td>6</td>\n",
       "      <td>1.0</td>\n",
       "      <td>0.949845</td>\n",
       "      <td>2.017071</td>\n",
       "      <td>2.984516</td>\n",
       "      <td>2.406854</td>\n",
       "      <td>1.269521</td>\n",
       "      <td>-0.426898</td>\n",
       "      <td>-0.146782</td>\n",
       "      <td>...</td>\n",
       "      <td>-0.124034</td>\n",
       "      <td>-0.124034</td>\n",
       "      <td>-0.124034</td>\n",
       "      <td>-0.124034</td>\n",
       "      <td>-0.124034</td>\n",
       "      <td>-0.124034</td>\n",
       "      <td>-0.124034</td>\n",
       "      <td>-0.124034</td>\n",
       "      <td>-0.124034</td>\n",
       "      <td>-0.124034</td>\n",
       "    </tr>\n",
       "    <tr>\n",
       "      <th>3</th>\n",
       "      <td>1</td>\n",
       "      <td>7</td>\n",
       "      <td>6.0</td>\n",
       "      <td>0.949845</td>\n",
       "      <td>2.017071</td>\n",
       "      <td>2.984516</td>\n",
       "      <td>2.406854</td>\n",
       "      <td>1.269521</td>\n",
       "      <td>-0.426898</td>\n",
       "      <td>-0.146782</td>\n",
       "      <td>...</td>\n",
       "      <td>-0.124034</td>\n",
       "      <td>-0.124034</td>\n",
       "      <td>-0.124034</td>\n",
       "      <td>-0.124034</td>\n",
       "      <td>-0.124034</td>\n",
       "      <td>-0.124034</td>\n",
       "      <td>-0.124034</td>\n",
       "      <td>-0.124034</td>\n",
       "      <td>-0.124034</td>\n",
       "      <td>-0.124034</td>\n",
       "    </tr>\n",
       "    <tr>\n",
       "      <th>4</th>\n",
       "      <td>1</td>\n",
       "      <td>8</td>\n",
       "      <td>2.0</td>\n",
       "      <td>0.949845</td>\n",
       "      <td>2.017071</td>\n",
       "      <td>2.984516</td>\n",
       "      <td>2.406854</td>\n",
       "      <td>1.269521</td>\n",
       "      <td>-0.426898</td>\n",
       "      <td>-0.146782</td>\n",
       "      <td>...</td>\n",
       "      <td>-0.124034</td>\n",
       "      <td>-0.124034</td>\n",
       "      <td>-0.124034</td>\n",
       "      <td>-0.124034</td>\n",
       "      <td>-0.124034</td>\n",
       "      <td>-0.124034</td>\n",
       "      <td>-0.124034</td>\n",
       "      <td>-0.124034</td>\n",
       "      <td>-0.124034</td>\n",
       "      <td>-0.124034</td>\n",
       "    </tr>\n",
       "  </tbody>\n",
       "</table>\n",
       "<p>5 rows × 274 columns</p>\n",
       "</div>"
      ],
      "text/plain": [
       "   district_ID  UTC    y     poi-1   poi-1#1  poi-1#10  poi-1#11   poi-1#2  \\\n",
       "0            1    4  5.0  0.949845  2.017071  2.984516  2.406854  1.269521   \n",
       "1            1    5  1.0  0.949845  2.017071  2.984516  2.406854  1.269521   \n",
       "2            1    6  1.0  0.949845  2.017071  2.984516  2.406854  1.269521   \n",
       "3            1    7  6.0  0.949845  2.017071  2.984516  2.406854  1.269521   \n",
       "4            1    8  2.0  0.949845  2.017071  2.984516  2.406854  1.269521   \n",
       "\n",
       "    poi-1#3   poi-1#4     ...       district_57  district_58  district_59  \\\n",
       "0 -0.426898 -0.146782     ...         -0.124034    -0.124034    -0.124034   \n",
       "1 -0.426898 -0.146782     ...         -0.124034    -0.124034    -0.124034   \n",
       "2 -0.426898 -0.146782     ...         -0.124034    -0.124034    -0.124034   \n",
       "3 -0.426898 -0.146782     ...         -0.124034    -0.124034    -0.124034   \n",
       "4 -0.426898 -0.146782     ...         -0.124034    -0.124034    -0.124034   \n",
       "\n",
       "   district_60  district_61  district_62  district_63  district_64  \\\n",
       "0    -0.124034    -0.124034    -0.124034    -0.124034    -0.124034   \n",
       "1    -0.124034    -0.124034    -0.124034    -0.124034    -0.124034   \n",
       "2    -0.124034    -0.124034    -0.124034    -0.124034    -0.124034   \n",
       "3    -0.124034    -0.124034    -0.124034    -0.124034    -0.124034   \n",
       "4    -0.124034    -0.124034    -0.124034    -0.124034    -0.124034   \n",
       "\n",
       "   district_65  district_66  \n",
       "0    -0.124034    -0.124034  \n",
       "1    -0.124034    -0.124034  \n",
       "2    -0.124034    -0.124034  \n",
       "3    -0.124034    -0.124034  \n",
       "4    -0.124034    -0.124034  \n",
       "\n",
       "[5 rows x 274 columns]"
      ]
     },
     "execution_count": 39,
     "metadata": {},
     "output_type": "execute_result"
    }
   ],
   "source": [
    "training_data.head()"
   ]
  },
  {
   "cell_type": "code",
   "execution_count": 40,
   "metadata": {
    "collapsed": false
   },
   "outputs": [
    {
     "data": {
      "text/plain": [
       "prior1_demand         0.735379\n",
       "prior2_demand         0.697246\n",
       "prior3_demand         0.653976\n",
       "prior1_supply         0.448624\n",
       "prior2_supply         0.448605\n",
       "prior3_supply         0.445396\n",
       "prior1_traffic-3      0.422073\n",
       "prior2_traffic-3      0.416124\n",
       "prior3_traffic-3      0.409284\n",
       "prior1_traffic-2      0.399252\n",
       "prior2_traffic-2      0.397141\n",
       "prior3_traffic-2      0.393551\n",
       "prior1_traffic-4      0.389296\n",
       "prior2_traffic-4      0.388292\n",
       "prior3_traffic-4      0.386642\n",
       "poi-16#10             0.364906\n",
       "poi-11#3              0.360714\n",
       "poi-13#4              0.360158\n",
       "poi-11#2              0.358912\n",
       "poi-11#4              0.358489\n",
       "poi-15#7              0.355798\n",
       "poi-11#6              0.354389\n",
       "poi-15                0.354241\n",
       "poi-15#2              0.353260\n",
       "poi-1                 0.351621\n",
       "poi-1#4               0.351348\n",
       "poi-16#11             0.351216\n",
       "poi-11                0.349783\n",
       "poi-15#3              0.348508\n",
       "poi-15#6              0.347386\n",
       "                        ...   \n",
       "district_64          -0.019628\n",
       "district_30          -0.019650\n",
       "district_50          -0.019675\n",
       "district_44          -0.019743\n",
       "district_57          -0.019747\n",
       "district_60          -0.019796\n",
       "district_17          -0.019822\n",
       "district_61          -0.019844\n",
       "district_65          -0.019928\n",
       "district_66          -0.019989\n",
       "district_52          -0.020088\n",
       "district_62          -0.020090\n",
       "district_55          -0.020251\n",
       "district_63          -0.020264\n",
       "district_15          -0.020321\n",
       "prior1_temp          -0.023538\n",
       "log_prior1_temp      -0.023692\n",
       "prior2_temp          -0.023938\n",
       "log_prior2_temp      -0.024096\n",
       "prior3_temp          -0.024316\n",
       "log_prior3_temp      -0.024477\n",
       "weekday_2            -0.027520\n",
       "district_ID          -0.029252\n",
       "poi-16#8             -0.030265\n",
       "log_poi-16#8         -0.031325\n",
       "prior3_weather_3.0   -0.033680\n",
       "prior2_weather_3.0   -0.034579\n",
       "prior1_weather_3.0   -0.035207\n",
       "poi-1#6              -0.076129\n",
       "log_poi-1#6          -0.086663\n",
       "Name: y, dtype: float64"
      ]
     },
     "execution_count": 40,
     "metadata": {},
     "output_type": "execute_result"
    },
    {
     "data": {
      "image/png": "[encoded data removed]",
      "text/plain": [
       "<matplotlib.figure.Figure at 0x7fd530328250>"
      ]
     },
     "metadata": {},
     "output_type": "display_data"
    }
   ],
   "source": [
    "pareto = training_data.corr()['y'].sort_values(ascending=False)[1:]\n",
    "pareto.plot.bar(figsize=(15, 10))\n",
    "plt.axhline(0, color='k')\n",
    "pareto"
   ]
  },
  {
   "cell_type": "markdown",
   "metadata": {},
   "source": [
    "### Cleanup"
   ]
  },
  {
   "cell_type": "code",
   "execution_count": 41,
   "metadata": {
    "collapsed": false
   },
   "outputs": [],
   "source": [
    "del df_cluster_map, df_order_train, df_poi, df_traffic_train, df_weather_train"
   ]
  },
  {
   "cell_type": "markdown",
   "metadata": {},
   "source": [
    "### Storage"
   ]
  },
  {
   "cell_type": "code",
   "execution_count": 42,
   "metadata": {
    "collapsed": false
   },
   "outputs": [],
   "source": [
    "training_data.to_csv('TrainingData.csv', index=False)"
   ]
  }
 ],
 "metadata": {
  "kernelspec": {
   "display_name": "Python [Root]",
   "language": "python",
   "name": "Python [Root]"
  },
  "language_info": {
   "codemirror_mode": {
    "name": "ipython",
    "version": 2
   },
   "file_extension": ".py",
   "mimetype": "text/x-python",
   "name": "python",
   "nbconvert_exporter": "python",
   "pygments_lexer": "ipython2",
   "version": "2.7.12"
  },
  "widgets": {
   "state": {},
   "version": "1.1.2"
  }
 },
 "nbformat": 4,
 "nbformat_minor": 0
}
